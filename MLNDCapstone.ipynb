{
 "cells": [
  {
   "cell_type": "markdown",
   "metadata": {},
   "source": [
    "**Project Overview**\n",
    "\n",
    "Every year, approximately 7.6 million companion animals end up in US shelters. Many animals are given up as unwanted by their owners, while others are picked up after getting lost or taken out of cruelty situations. Many of these animals find forever families to take them home, but just as many are not so lucky. 2.7 million dogs and cats are euthanized in the US every year. \n",
    "\n",
    "With machine learning we could analyze data relating to the outcome of animals based on features of these animals. These insights could help shelters focus their energy on specific animals that need a little extra help in finding a new home."
   ]
  },
  {
   "cell_type": "markdown",
   "metadata": {},
   "source": [
    "**Problem statement**\n",
    "\n",
    "In this project, we look at a Kaggle dataset provided by the Austin Animal Center, where data is given on intake information of the animals including breed, color, sex and age, and we will predict the outcomes of these animals. The outcomes represent the status of animals as they leave the Animal Center, and include: Adoption, Died, Euthanasia, Return to Owner, and Transfer. I will use machine learning methods learned in the nanodegree program to perform this prediction task, and since this is a multi-class classification problem, the models will be evaluated using multi-class logarithmic loss."
   ]
  },
  {
   "cell_type": "markdown",
   "metadata": {},
   "source": [
    "**Metrics**\n",
    "\n",
    "Since this is a multiclass classification problem, the metric we will go with is the multi-class log loss. For each class animal, I will submit a set of predicted probabilities(one for each class). The log loss evaluates not just whether we get the right class, but how confident our predictions are of the true class. \n"
   ]
  },
  {
   "cell_type": "markdown",
   "metadata": {},
   "source": [
    "# Analysis\n",
    "\n",
    "**Data Exploration**"
   ]
  },
  {
   "cell_type": "markdown",
   "metadata": {},
   "source": [
    "The dataset is provided by the Austin Animal Center to Kaggle (which is where I have obtained it from). Kaggle originally split the data into train and test sets, but the test set does not have target variables, and so cannot be used for the purposes of this project. Therefore I will treat Kaggle's train set as the full dataset and further split it into train and test sets when running the algorithm."
   ]
  },
  {
   "cell_type": "code",
   "execution_count": 148,
   "metadata": {},
   "outputs": [],
   "source": [
    "import pandas as pd\n",
    "import numpy as np\n",
    "from sklearn.dummy import DummyClassifier\n",
    "from sklearn.ensemble import RandomForestClassifier\n",
    "from xgboost import XGBClassifier\n",
    "from sklearn.calibration import CalibratedClassifierCV\n",
    "from sklearn.model_selection import StratifiedKFold, GridSearchCV, cross_val_predict\n",
    "from sklearn.metrics import log_loss, confusion_matrix\n",
    "from joblib import dump, load\n",
    "import matplotlib.pyplot as plt\n",
    "import seaborn as sns\n",
    "%matplotlib inline"
   ]
  },
  {
   "cell_type": "code",
   "execution_count": 135,
   "metadata": {},
   "outputs": [],
   "source": [
    "data = pd.read_csv('data/train.csv')"
   ]
  },
  {
   "cell_type": "code",
   "execution_count": 37,
   "metadata": {},
   "outputs": [
    {
     "data": {
      "text/plain": [
       "(26729, 10)"
      ]
     },
     "execution_count": 37,
     "metadata": {},
     "output_type": "execute_result"
    }
   ],
   "source": [
    "data.shape"
   ]
  },
  {
   "cell_type": "code",
   "execution_count": 38,
   "metadata": {},
   "outputs": [
    {
     "data": {
      "text/html": [
       "<div>\n",
       "<style scoped>\n",
       "    .dataframe tbody tr th:only-of-type {\n",
       "        vertical-align: middle;\n",
       "    }\n",
       "\n",
       "    .dataframe tbody tr th {\n",
       "        vertical-align: top;\n",
       "    }\n",
       "\n",
       "    .dataframe thead th {\n",
       "        text-align: right;\n",
       "    }\n",
       "</style>\n",
       "<table border=\"1\" class=\"dataframe\">\n",
       "  <thead>\n",
       "    <tr style=\"text-align: right;\">\n",
       "      <th></th>\n",
       "      <th>AnimalID</th>\n",
       "      <th>Name</th>\n",
       "      <th>DateTime</th>\n",
       "      <th>OutcomeType</th>\n",
       "      <th>OutcomeSubtype</th>\n",
       "      <th>AnimalType</th>\n",
       "      <th>SexuponOutcome</th>\n",
       "      <th>AgeuponOutcome</th>\n",
       "      <th>Breed</th>\n",
       "      <th>Color</th>\n",
       "    </tr>\n",
       "  </thead>\n",
       "  <tbody>\n",
       "    <tr>\n",
       "      <th>0</th>\n",
       "      <td>A671945</td>\n",
       "      <td>Hambone</td>\n",
       "      <td>2014-02-12 18:22:00</td>\n",
       "      <td>Return_to_owner</td>\n",
       "      <td>NaN</td>\n",
       "      <td>Dog</td>\n",
       "      <td>Neutered Male</td>\n",
       "      <td>1 year</td>\n",
       "      <td>Shetland Sheepdog Mix</td>\n",
       "      <td>Brown/White</td>\n",
       "    </tr>\n",
       "    <tr>\n",
       "      <th>1</th>\n",
       "      <td>A656520</td>\n",
       "      <td>Emily</td>\n",
       "      <td>2013-10-13 12:44:00</td>\n",
       "      <td>Euthanasia</td>\n",
       "      <td>Suffering</td>\n",
       "      <td>Cat</td>\n",
       "      <td>Spayed Female</td>\n",
       "      <td>1 year</td>\n",
       "      <td>Domestic Shorthair Mix</td>\n",
       "      <td>Cream Tabby</td>\n",
       "    </tr>\n",
       "    <tr>\n",
       "      <th>2</th>\n",
       "      <td>A686464</td>\n",
       "      <td>Pearce</td>\n",
       "      <td>2015-01-31 12:28:00</td>\n",
       "      <td>Adoption</td>\n",
       "      <td>Foster</td>\n",
       "      <td>Dog</td>\n",
       "      <td>Neutered Male</td>\n",
       "      <td>2 years</td>\n",
       "      <td>Pit Bull Mix</td>\n",
       "      <td>Blue/White</td>\n",
       "    </tr>\n",
       "    <tr>\n",
       "      <th>3</th>\n",
       "      <td>A683430</td>\n",
       "      <td>NaN</td>\n",
       "      <td>2014-07-11 19:09:00</td>\n",
       "      <td>Transfer</td>\n",
       "      <td>Partner</td>\n",
       "      <td>Cat</td>\n",
       "      <td>Intact Male</td>\n",
       "      <td>3 weeks</td>\n",
       "      <td>Domestic Shorthair Mix</td>\n",
       "      <td>Blue Cream</td>\n",
       "    </tr>\n",
       "    <tr>\n",
       "      <th>4</th>\n",
       "      <td>A667013</td>\n",
       "      <td>NaN</td>\n",
       "      <td>2013-11-15 12:52:00</td>\n",
       "      <td>Transfer</td>\n",
       "      <td>Partner</td>\n",
       "      <td>Dog</td>\n",
       "      <td>Neutered Male</td>\n",
       "      <td>2 years</td>\n",
       "      <td>Lhasa Apso/Miniature Poodle</td>\n",
       "      <td>Tan</td>\n",
       "    </tr>\n",
       "  </tbody>\n",
       "</table>\n",
       "</div>"
      ],
      "text/plain": [
       "  AnimalID     Name             DateTime      OutcomeType OutcomeSubtype  \\\n",
       "0  A671945  Hambone  2014-02-12 18:22:00  Return_to_owner            NaN   \n",
       "1  A656520    Emily  2013-10-13 12:44:00       Euthanasia      Suffering   \n",
       "2  A686464   Pearce  2015-01-31 12:28:00         Adoption         Foster   \n",
       "3  A683430      NaN  2014-07-11 19:09:00         Transfer        Partner   \n",
       "4  A667013      NaN  2013-11-15 12:52:00         Transfer        Partner   \n",
       "\n",
       "  AnimalType SexuponOutcome AgeuponOutcome                        Breed  \\\n",
       "0        Dog  Neutered Male         1 year        Shetland Sheepdog Mix   \n",
       "1        Cat  Spayed Female         1 year       Domestic Shorthair Mix   \n",
       "2        Dog  Neutered Male        2 years                 Pit Bull Mix   \n",
       "3        Cat    Intact Male        3 weeks       Domestic Shorthair Mix   \n",
       "4        Dog  Neutered Male        2 years  Lhasa Apso/Miniature Poodle   \n",
       "\n",
       "         Color  \n",
       "0  Brown/White  \n",
       "1  Cream Tabby  \n",
       "2   Blue/White  \n",
       "3   Blue Cream  \n",
       "4          Tan  "
      ]
     },
     "execution_count": 38,
     "metadata": {},
     "output_type": "execute_result"
    }
   ],
   "source": [
    "data.head()"
   ]
  },
  {
   "cell_type": "markdown",
   "metadata": {},
   "source": [
    "We have 26729 records, with 10 columns.\n",
    "-AnimalId is just a unique identifier, so it's not needed.\n",
    "-OutcomeSubtype is further info on the outcome. Since we are only predicting the outcome, this column is not needed.\n",
    "-DateTime corresponds to the datetime of the outcome. There are discussions in kaggle about a data leak as a result of this column, because when an animal is admitted to a shelter, we don't yet know when the outcome will happen for this animal, and so it does not make sense to use this column for prediction as it would be cheating, and not applicable to real-world usage. As such, I will drop this column as well."
   ]
  },
  {
   "cell_type": "code",
   "execution_count": 39,
   "metadata": {},
   "outputs": [],
   "source": [
    "del data['AnimalID']\n",
    "del data['DateTime']\n",
    "del data['OutcomeSubtype']"
   ]
  },
  {
   "cell_type": "code",
   "execution_count": 40,
   "metadata": {},
   "outputs": [
    {
     "data": {
      "text/html": [
       "<div>\n",
       "<style scoped>\n",
       "    .dataframe tbody tr th:only-of-type {\n",
       "        vertical-align: middle;\n",
       "    }\n",
       "\n",
       "    .dataframe tbody tr th {\n",
       "        vertical-align: top;\n",
       "    }\n",
       "\n",
       "    .dataframe thead th {\n",
       "        text-align: right;\n",
       "    }\n",
       "</style>\n",
       "<table border=\"1\" class=\"dataframe\">\n",
       "  <thead>\n",
       "    <tr style=\"text-align: right;\">\n",
       "      <th></th>\n",
       "      <th>Name</th>\n",
       "      <th>OutcomeType</th>\n",
       "      <th>AnimalType</th>\n",
       "      <th>SexuponOutcome</th>\n",
       "      <th>AgeuponOutcome</th>\n",
       "      <th>Breed</th>\n",
       "      <th>Color</th>\n",
       "    </tr>\n",
       "  </thead>\n",
       "  <tbody>\n",
       "    <tr>\n",
       "      <th>0</th>\n",
       "      <td>Hambone</td>\n",
       "      <td>Return_to_owner</td>\n",
       "      <td>Dog</td>\n",
       "      <td>Neutered Male</td>\n",
       "      <td>1 year</td>\n",
       "      <td>Shetland Sheepdog Mix</td>\n",
       "      <td>Brown/White</td>\n",
       "    </tr>\n",
       "    <tr>\n",
       "      <th>1</th>\n",
       "      <td>Emily</td>\n",
       "      <td>Euthanasia</td>\n",
       "      <td>Cat</td>\n",
       "      <td>Spayed Female</td>\n",
       "      <td>1 year</td>\n",
       "      <td>Domestic Shorthair Mix</td>\n",
       "      <td>Cream Tabby</td>\n",
       "    </tr>\n",
       "    <tr>\n",
       "      <th>2</th>\n",
       "      <td>Pearce</td>\n",
       "      <td>Adoption</td>\n",
       "      <td>Dog</td>\n",
       "      <td>Neutered Male</td>\n",
       "      <td>2 years</td>\n",
       "      <td>Pit Bull Mix</td>\n",
       "      <td>Blue/White</td>\n",
       "    </tr>\n",
       "    <tr>\n",
       "      <th>3</th>\n",
       "      <td>NaN</td>\n",
       "      <td>Transfer</td>\n",
       "      <td>Cat</td>\n",
       "      <td>Intact Male</td>\n",
       "      <td>3 weeks</td>\n",
       "      <td>Domestic Shorthair Mix</td>\n",
       "      <td>Blue Cream</td>\n",
       "    </tr>\n",
       "    <tr>\n",
       "      <th>4</th>\n",
       "      <td>NaN</td>\n",
       "      <td>Transfer</td>\n",
       "      <td>Dog</td>\n",
       "      <td>Neutered Male</td>\n",
       "      <td>2 years</td>\n",
       "      <td>Lhasa Apso/Miniature Poodle</td>\n",
       "      <td>Tan</td>\n",
       "    </tr>\n",
       "  </tbody>\n",
       "</table>\n",
       "</div>"
      ],
      "text/plain": [
       "      Name      OutcomeType AnimalType SexuponOutcome AgeuponOutcome  \\\n",
       "0  Hambone  Return_to_owner        Dog  Neutered Male         1 year   \n",
       "1    Emily       Euthanasia        Cat  Spayed Female         1 year   \n",
       "2   Pearce         Adoption        Dog  Neutered Male        2 years   \n",
       "3      NaN         Transfer        Cat    Intact Male        3 weeks   \n",
       "4      NaN         Transfer        Dog  Neutered Male        2 years   \n",
       "\n",
       "                         Breed        Color  \n",
       "0        Shetland Sheepdog Mix  Brown/White  \n",
       "1       Domestic Shorthair Mix  Cream Tabby  \n",
       "2                 Pit Bull Mix   Blue/White  \n",
       "3       Domestic Shorthair Mix   Blue Cream  \n",
       "4  Lhasa Apso/Miniature Poodle          Tan  "
      ]
     },
     "execution_count": 40,
     "metadata": {},
     "output_type": "execute_result"
    }
   ],
   "source": [
    "data.head()"
   ]
  },
  {
   "cell_type": "code",
   "execution_count": 41,
   "metadata": {},
   "outputs": [
    {
     "data": {
      "text/html": [
       "<div>\n",
       "<style scoped>\n",
       "    .dataframe tbody tr th:only-of-type {\n",
       "        vertical-align: middle;\n",
       "    }\n",
       "\n",
       "    .dataframe tbody tr th {\n",
       "        vertical-align: top;\n",
       "    }\n",
       "\n",
       "    .dataframe thead th {\n",
       "        text-align: right;\n",
       "    }\n",
       "</style>\n",
       "<table border=\"1\" class=\"dataframe\">\n",
       "  <thead>\n",
       "    <tr style=\"text-align: right;\">\n",
       "      <th></th>\n",
       "      <th>Name</th>\n",
       "      <th>OutcomeType</th>\n",
       "      <th>AnimalType</th>\n",
       "      <th>SexuponOutcome</th>\n",
       "      <th>AgeuponOutcome</th>\n",
       "      <th>Breed</th>\n",
       "      <th>Color</th>\n",
       "    </tr>\n",
       "  </thead>\n",
       "  <tbody>\n",
       "    <tr>\n",
       "      <th>count</th>\n",
       "      <td>19038</td>\n",
       "      <td>26729</td>\n",
       "      <td>26729</td>\n",
       "      <td>26728</td>\n",
       "      <td>26711</td>\n",
       "      <td>26729</td>\n",
       "      <td>26729</td>\n",
       "    </tr>\n",
       "    <tr>\n",
       "      <th>unique</th>\n",
       "      <td>6374</td>\n",
       "      <td>5</td>\n",
       "      <td>2</td>\n",
       "      <td>5</td>\n",
       "      <td>44</td>\n",
       "      <td>1380</td>\n",
       "      <td>366</td>\n",
       "    </tr>\n",
       "    <tr>\n",
       "      <th>top</th>\n",
       "      <td>Max</td>\n",
       "      <td>Adoption</td>\n",
       "      <td>Dog</td>\n",
       "      <td>Neutered Male</td>\n",
       "      <td>1 year</td>\n",
       "      <td>Domestic Shorthair Mix</td>\n",
       "      <td>Black/White</td>\n",
       "    </tr>\n",
       "    <tr>\n",
       "      <th>freq</th>\n",
       "      <td>136</td>\n",
       "      <td>10769</td>\n",
       "      <td>15595</td>\n",
       "      <td>9779</td>\n",
       "      <td>3969</td>\n",
       "      <td>8810</td>\n",
       "      <td>2824</td>\n",
       "    </tr>\n",
       "  </tbody>\n",
       "</table>\n",
       "</div>"
      ],
      "text/plain": [
       "         Name OutcomeType AnimalType SexuponOutcome AgeuponOutcome  \\\n",
       "count   19038       26729      26729          26728          26711   \n",
       "unique   6374           5          2              5             44   \n",
       "top       Max    Adoption        Dog  Neutered Male         1 year   \n",
       "freq      136       10769      15595           9779           3969   \n",
       "\n",
       "                         Breed        Color  \n",
       "count                    26729        26729  \n",
       "unique                    1380          366  \n",
       "top     Domestic Shorthair Mix  Black/White  \n",
       "freq                      8810         2824  "
      ]
     },
     "execution_count": 41,
     "metadata": {},
     "output_type": "execute_result"
    }
   ],
   "source": [
    "data.describe()"
   ]
  },
  {
   "cell_type": "markdown",
   "metadata": {},
   "source": [
    "Looks like we have all categorical variables atm. Breed and Color will be tricky as there are so many unique values. We'll need to find a way to simplify those columns if we want to use them in the model. We can convert AgeuponOutcome to a numeric variable with some data processing later on. Let's check for null values."
   ]
  },
  {
   "cell_type": "code",
   "execution_count": 42,
   "metadata": {},
   "outputs": [
    {
     "data": {
      "text/plain": [
       "Name              7691\n",
       "OutcomeType          0\n",
       "AnimalType           0\n",
       "SexuponOutcome       1\n",
       "AgeuponOutcome      18\n",
       "Breed                0\n",
       "Color                0\n",
       "dtype: int64"
      ]
     },
     "execution_count": 42,
     "metadata": {},
     "output_type": "execute_result"
    }
   ],
   "source": [
    "data.isna().sum()"
   ]
  },
  {
   "cell_type": "markdown",
   "metadata": {},
   "source": [
    "Looks like we have significant number of animals without a name. I think this variable could potentially be important because it could indicate a stray animal as opposed to one that belonged to a home, which could influence future adoption etc. We could create a binary variable 'HasName' for use in the model from this, later in data processing. For SexuponOutcome and AgeuponOutcome, there are very few records with missing values, so I'll fill them in with the most common values."
   ]
  },
  {
   "cell_type": "code",
   "execution_count": 43,
   "metadata": {},
   "outputs": [],
   "source": [
    "data['SexuponOutcome'] = data['SexuponOutcome'].fillna(\"Neutered Male\")\n",
    "data['AgeuponOutcome'] = data['AgeuponOutcome'].fillna(\"1 year\")"
   ]
  },
  {
   "cell_type": "code",
   "execution_count": 44,
   "metadata": {},
   "outputs": [
    {
     "name": "stdout",
     "output_type": "stream",
     "text": [
      "Name\n",
      "Max            136\n",
      "Bella          135\n",
      "Charlie        107\n",
      "Daisy          106\n",
      "Lucy            94\n",
      "Buddy           87\n",
      "Princess        86\n",
      "Rocky           85\n",
      "Luna            68\n",
      "Jack            66\n",
      "Lola            61\n",
      "Sadie           58\n",
      "Shadow          57\n",
      "Molly           57\n",
      "Coco            55\n",
      "Maggie          55\n",
      "Chico           54\n",
      "Oreo            53\n",
      "Lily            53\n",
      "Blue            52\n",
      "Lucky           51\n",
      "Toby            50\n",
      "Cookie          48\n",
      "Ginger          48\n",
      "Lady            47\n",
      "Sam             46\n",
      "Duke            45\n",
      "Milo            44\n",
      "Oliver          44\n",
      "Sophie          44\n",
      "              ... \n",
      "York             1\n",
      "Quattro          1\n",
      "Armani           1\n",
      "Kwazii           1\n",
      "Outlaw           1\n",
      "Lylah            1\n",
      "Cupulin          1\n",
      "Chowda           1\n",
      "Farrelly         1\n",
      "Dominick         1\n",
      "Cooter           1\n",
      "Bogart           1\n",
      "Merci            1\n",
      "Abbadon          1\n",
      "Asner            1\n",
      "Kings            1\n",
      "Lacey 3          1\n",
      "Little Bug       1\n",
      "Kaiman           1\n",
      "Fall             1\n",
      "Anne Bonnie      1\n",
      "Sugars           1\n",
      "Tennesse         1\n",
      "Truluck          1\n",
      "Holiday          1\n",
      "Caine            1\n",
      "Kit Kit          1\n",
      "Leonora          1\n",
      "Trax             1\n",
      "Scar             1\n",
      "Name: Name, Length: 6374, dtype: int64\n",
      "------\n",
      "OutcomeType\n",
      "Adoption           10769\n",
      "Transfer            9422\n",
      "Return_to_owner     4786\n",
      "Euthanasia          1555\n",
      "Died                 197\n",
      "Name: OutcomeType, dtype: int64\n",
      "------\n",
      "AnimalType\n",
      "Dog    15595\n",
      "Cat    11134\n",
      "Name: AnimalType, dtype: int64\n",
      "------\n",
      "SexuponOutcome\n",
      "Neutered Male    9780\n",
      "Spayed Female    8820\n",
      "Intact Male      3525\n",
      "Intact Female    3511\n",
      "Unknown          1093\n",
      "Name: SexuponOutcome, dtype: int64\n",
      "------\n",
      "AgeuponOutcome\n",
      "1 year       3987\n",
      "2 years      3742\n",
      "2 months     3397\n",
      "3 years      1823\n",
      "1 month      1281\n",
      "3 months     1277\n",
      "4 years      1071\n",
      "5 years       992\n",
      "4 months      888\n",
      "6 years       670\n",
      "3 weeks       659\n",
      "5 months      652\n",
      "6 months      588\n",
      "8 years       536\n",
      "7 years       531\n",
      "2 weeks       529\n",
      "10 months     457\n",
      "10 years      446\n",
      "8 months      402\n",
      "4 weeks       334\n",
      "9 years       288\n",
      "7 months      288\n",
      "12 years      234\n",
      "9 months      224\n",
      "1 weeks       171\n",
      "11 months     166\n",
      "1 week        146\n",
      "13 years      143\n",
      "11 years      126\n",
      "3 days        109\n",
      "2 days         99\n",
      "14 years       97\n",
      "15 years       85\n",
      "1 day          66\n",
      "4 days         50\n",
      "6 days         50\n",
      "16 years       36\n",
      "5 days         24\n",
      "0 years        22\n",
      "17 years       17\n",
      "5 weeks        11\n",
      "18 years       10\n",
      "19 years        3\n",
      "20 years        2\n",
      "Name: AgeuponOutcome, dtype: int64\n",
      "------\n",
      "Breed\n",
      "Domestic Shorthair Mix                                 8810\n",
      "Pit Bull Mix                                           1906\n",
      "Chihuahua Shorthair Mix                                1766\n",
      "Labrador Retriever Mix                                 1363\n",
      "Domestic Medium Hair Mix                                839\n",
      "German Shepherd Mix                                     575\n",
      "Domestic Longhair Mix                                   520\n",
      "Siamese Mix                                             389\n",
      "Australian Cattle Dog Mix                               367\n",
      "Dachshund Mix                                           318\n",
      "Boxer Mix                                               245\n",
      "Miniature Poodle Mix                                    233\n",
      "Border Collie Mix                                       229\n",
      "Australian Shepherd Mix                                 163\n",
      "Rat Terrier Mix                                         157\n",
      "Catahoula Mix                                           157\n",
      "Jack Russell Terrier Mix                                146\n",
      "Domestic Shorthair                                      143\n",
      "Yorkshire Terrier Mix                                   143\n",
      "Chihuahua Longhair Mix                                  142\n",
      "Siberian Husky Mix                                      138\n",
      "Miniature Schnauzer Mix                                 136\n",
      "Beagle Mix                                              124\n",
      "Rottweiler Mix                                          113\n",
      "American Bulldog Mix                                    109\n",
      "Cairn Terrier Mix                                       102\n",
      "Shih Tzu Mix                                            100\n",
      "Chihuahua Shorthair/Dachshund                            98\n",
      "Australian Kelpie Mix                                    95\n",
      "Staffordshire Mix                                        94\n",
      "                                                       ... \n",
      "Shetland Sheepdog/Dachshund Longhair                      1\n",
      "Norwegian Forest Cat Mix                                  1\n",
      "Great Pyrenees/Pit Bull                                   1\n",
      "Doberman Pinsch/Vizsla                                    1\n",
      "Pembroke Welsh Corgi/Dachshund                            1\n",
      "Pekingese/Jack Russell Terrier                            1\n",
      "Australian Cattle Dog/Queensland Heeler                   1\n",
      "Jack Russell Terrier/American Staffordshire Terrier       1\n",
      "Whippet/Australian Cattle Dog                             1\n",
      "Jack Russell Terrier/Border Collie                        1\n",
      "Australian Cattle Dog/Parson Russell Terrier              1\n",
      "Australian Cattle Dog/Basenji                             1\n",
      "English Bulldog/American Staffordshire Terrier            1\n",
      "Whippet/Whippet                                           1\n",
      "Great Dane/Staffordshire                                  1\n",
      "Chesa Bay Retr                                            1\n",
      "Cardigan Welsh Corgi/Australian Shepherd                  1\n",
      "Norfolk Terrier/Dachshund Wirehair                        1\n",
      "Saluki                                                    1\n",
      "German Shepherd/Bull Terrier                              1\n",
      "Weimaraner/Pit Bull                                       1\n",
      "Pekingese/Pug                                             1\n",
      "Miniature Poodle/Pomeranian                               1\n",
      "Blue Lacy/Great Dane                                      1\n",
      "Beagle/Chinese Sharpei                                    1\n",
      "German Shepherd/Great Dane                                1\n",
      "Golden Retriever/Whippet                                  1\n",
      "Blue Lacy/Labrador Retriever                              1\n",
      "Cavalier Span/Papillon                                    1\n",
      "Pug/Pit Bull                                              1\n",
      "Name: Breed, Length: 1380, dtype: int64\n",
      "------\n",
      "Color\n",
      "Black/White                    2824\n",
      "Black                          2292\n",
      "Brown Tabby                    1635\n",
      "Brown Tabby/White               940\n",
      "White                           931\n",
      "Brown/White                     884\n",
      "Orange Tabby                    841\n",
      "Tan/White                       773\n",
      "Tricolor                        752\n",
      "Blue/White                      702\n",
      "Black/Tan                       672\n",
      "White/Black                     643\n",
      "Brown                           639\n",
      "Tan                             628\n",
      "White/Brown                     569\n",
      "Tortie                          530\n",
      "Calico                          517\n",
      "Orange Tabby/White              455\n",
      "Blue                            450\n",
      "Brown Brindle/White             450\n",
      "Black/Brown                     436\n",
      "Blue Tabby                      433\n",
      "White/Tan                       389\n",
      "Red                             337\n",
      "Torbie                          335\n",
      "Brown/Black                     333\n",
      "Red/White                       331\n",
      "Blue Tabby/White                241\n",
      "Brown Brindle                   232\n",
      "Chocolate/White                 224\n",
      "                               ... \n",
      "Blue Cream/Buff                   1\n",
      "Fawn/Tricolor                     1\n",
      "Black/Black Tabby                 1\n",
      "Brown/Black Brindle               1\n",
      "Brown/Brown Merle                 1\n",
      "Brown Merle/Tan                   1\n",
      "Black Brindle/Brown Brindle       1\n",
      "Tan/Brown Merle                   1\n",
      "Gray Tabby/Black                  1\n",
      "Orange/Orange Tabby               1\n",
      "Gold/Buff                         1\n",
      "Orange/Tan                        1\n",
      "Calico/Blue Cream                 1\n",
      "Black Smoke/Brown Tabby           1\n",
      "Tricolor/Calico                   1\n",
      "Cream/Red Tick                    1\n",
      "Tortie/Black Smoke                1\n",
      "Yellow/Black                      1\n",
      "Blue/Tortie                       1\n",
      "White/Black Smoke                 1\n",
      "Red Tick/Brown                    1\n",
      "Yellow Brindle/Tan                1\n",
      "Brown/Silver                      1\n",
      "Black/Yellow                      1\n",
      "Blue Merle/Gray                   1\n",
      "Blue Tick/Red                     1\n",
      "Torbie/Brown                      1\n",
      "Red/Silver                        1\n",
      "Orange Tabby/Apricot              1\n",
      "Blue Tabby/Blue Cream             1\n",
      "Name: Color, Length: 366, dtype: int64\n",
      "------\n"
     ]
    }
   ],
   "source": [
    "for x in data.columns:\n",
    "    print(x)\n",
    "    print(data[x].value_counts())\n",
    "    print('------')"
   ]
  },
  {
   "cell_type": "markdown",
   "metadata": {},
   "source": [
    "Initial exploration of the data in each column, we see Name has very many unique values, OutcomeType is the target variable with 5 unique values that we will predict, AnimalType has 2: Dog and Cat, SexuponOutcome is interesting as it includes whether the male/female is neutered/spayed, and 1093 records are unknown w.r.t. this variable. AgeuponOutcome will need cleaning as it has anything from 1 day to 20 years. Breed also has very many values, and many of the breeds are mixed. Same story with the Color variable."
   ]
  },
  {
   "cell_type": "markdown",
   "metadata": {},
   "source": [
    "**Exploratory Visualization**"
   ]
  },
  {
   "cell_type": "code",
   "execution_count": 45,
   "metadata": {},
   "outputs": [
    {
     "data": {
      "text/html": [
       "<div>\n",
       "<style scoped>\n",
       "    .dataframe tbody tr th:only-of-type {\n",
       "        vertical-align: middle;\n",
       "    }\n",
       "\n",
       "    .dataframe tbody tr th {\n",
       "        vertical-align: top;\n",
       "    }\n",
       "\n",
       "    .dataframe thead th {\n",
       "        text-align: right;\n",
       "    }\n",
       "</style>\n",
       "<table border=\"1\" class=\"dataframe\">\n",
       "  <thead>\n",
       "    <tr style=\"text-align: right;\">\n",
       "      <th></th>\n",
       "      <th>Name</th>\n",
       "      <th>OutcomeType</th>\n",
       "      <th>AnimalType</th>\n",
       "      <th>SexuponOutcome</th>\n",
       "      <th>AgeuponOutcome</th>\n",
       "      <th>Breed</th>\n",
       "      <th>Color</th>\n",
       "    </tr>\n",
       "  </thead>\n",
       "  <tbody>\n",
       "    <tr>\n",
       "      <th>count</th>\n",
       "      <td>19038</td>\n",
       "      <td>26729</td>\n",
       "      <td>26729</td>\n",
       "      <td>26729</td>\n",
       "      <td>26729</td>\n",
       "      <td>26729</td>\n",
       "      <td>26729</td>\n",
       "    </tr>\n",
       "    <tr>\n",
       "      <th>unique</th>\n",
       "      <td>6374</td>\n",
       "      <td>5</td>\n",
       "      <td>2</td>\n",
       "      <td>5</td>\n",
       "      <td>44</td>\n",
       "      <td>1380</td>\n",
       "      <td>366</td>\n",
       "    </tr>\n",
       "    <tr>\n",
       "      <th>top</th>\n",
       "      <td>Max</td>\n",
       "      <td>Adoption</td>\n",
       "      <td>Dog</td>\n",
       "      <td>Neutered Male</td>\n",
       "      <td>1 year</td>\n",
       "      <td>Domestic Shorthair Mix</td>\n",
       "      <td>Black/White</td>\n",
       "    </tr>\n",
       "    <tr>\n",
       "      <th>freq</th>\n",
       "      <td>136</td>\n",
       "      <td>10769</td>\n",
       "      <td>15595</td>\n",
       "      <td>9780</td>\n",
       "      <td>3987</td>\n",
       "      <td>8810</td>\n",
       "      <td>2824</td>\n",
       "    </tr>\n",
       "  </tbody>\n",
       "</table>\n",
       "</div>"
      ],
      "text/plain": [
       "         Name OutcomeType AnimalType SexuponOutcome AgeuponOutcome  \\\n",
       "count   19038       26729      26729          26729          26729   \n",
       "unique   6374           5          2              5             44   \n",
       "top       Max    Adoption        Dog  Neutered Male         1 year   \n",
       "freq      136       10769      15595           9780           3987   \n",
       "\n",
       "                         Breed        Color  \n",
       "count                    26729        26729  \n",
       "unique                    1380          366  \n",
       "top     Domestic Shorthair Mix  Black/White  \n",
       "freq                      8810         2824  "
      ]
     },
     "execution_count": 45,
     "metadata": {},
     "output_type": "execute_result"
    }
   ],
   "source": [
    "data.describe()"
   ]
  },
  {
   "cell_type": "markdown",
   "metadata": {},
   "source": [
    "Let's start by getting a distribution of the outcome"
   ]
  },
  {
   "cell_type": "code",
   "execution_count": 46,
   "metadata": {},
   "outputs": [
    {
     "data": {
      "image/png": "[encoded data removed]",
      "text/plain": [
       "<Figure size 1080x360 with 1 Axes>"
      ]
     },
     "metadata": {},
     "output_type": "display_data"
    }
   ],
   "source": [
    "sns.set(font_scale=1.8)\n",
    "ax = sns.countplot(data.OutcomeType, palette='Set3')\n",
    "ax.figure.set_size_inches(15,5)\n",
    "plt.title('Outcome Type (with frequency)', loc='left')\n",
    "ax.set_xlabel('')\n",
    "n = data.shape[0]\n",
    "for p in ax.patches:\n",
    "    x=p.get_bbox().get_points()[:,0]\n",
    "    y=p.get_bbox().get_points()[1,1]\n",
    "    ax.annotate('{:.1f}%'.format(100.*y/n), (x.mean(), y), \n",
    "                ha='center', va='bottom')"
   ]
  },
  {
   "cell_type": "markdown",
   "metadata": {},
   "source": [
    "So the good news is the 75.6% of the animals are either adopted, or transferred to another place, and only very few animals (<1%) die while at the shelter, though a minority (5.8%) do get euthanized."
   ]
  },
  {
   "cell_type": "markdown",
   "metadata": {},
   "source": [
    "Let's look at the outcomes based on a particular feature, say AnimalType"
   ]
  },
  {
   "cell_type": "code",
   "execution_count": 47,
   "metadata": {},
   "outputs": [
    {
     "data": {
      "image/png": "[encoded data removed]",
      "text/plain": [
       "<Figure size 1080x360 with 1 Axes>"
      ]
     },
     "metadata": {},
     "output_type": "display_data"
    }
   ],
   "source": [
    "ax = sns.countplot(data=data, x='OutcomeType',hue='AnimalType', palette=\"Set3\")\n",
    "ax.figure.set_size_inches(15,5)"
   ]
  },
  {
   "cell_type": "markdown",
   "metadata": {},
   "source": [
    "Here we see that more dogs are adopted compared to cats, but more cats are transferred. Interestingly, many more dogs are returned to owner compared to cats. The AnimalType variable looks like it could be very important in predicting the outcome. "
   ]
  },
  {
   "cell_type": "markdown",
   "metadata": {},
   "source": [
    "Let's now take a look at the name variable. There are too many unique names in the data, but a significant number of animals don't have a name. So to keep things simple, I want to compare the outcomes for named vs non-named animals. To do this, I'll need to change the name column to a binary column 'HasName', with value 1 indicating it has a name, and value 0 indicating it does not."
   ]
  },
  {
   "cell_type": "code",
   "execution_count": 48,
   "metadata": {},
   "outputs": [],
   "source": [
    "def HasName(x):\n",
    "    if type(x) == float:\n",
    "        return 0\n",
    "    else:\n",
    "        return 1\n",
    "\n",
    "data['Name']=data['Name'].apply(HasName)"
   ]
  },
  {
   "cell_type": "code",
   "execution_count": 49,
   "metadata": {},
   "outputs": [],
   "source": [
    "data.rename(columns={'Name':'HasName'}, inplace=True)"
   ]
  },
  {
   "cell_type": "code",
   "execution_count": 50,
   "metadata": {},
   "outputs": [
    {
     "data": {
      "image/png": "[encoded data removed]",
      "text/plain": [
       "<Figure size 1080x360 with 1 Axes>"
      ]
     },
     "metadata": {},
     "output_type": "display_data"
    }
   ],
   "source": [
    "ax = sns.countplot(data=data, x='OutcomeType',hue='HasName', palette=\"Set3\")\n",
    "ax.figure.set_size_inches(15,5)"
   ]
  },
  {
   "cell_type": "markdown",
   "metadata": {},
   "source": [
    "So we see that more named animals are returned to owner and adopted. But there were more named vs unnamed animals to begin with, and I want to make sure the difference we're seeing is not simply due to that fact. So I want to see the proportion of each group for each outcome. So let's create 2 more plots, 1 for named animals, and 1 for unnamed animals, so we can compare the outcomes between plots."
   ]
  },
  {
   "cell_type": "code",
   "execution_count": 51,
   "metadata": {},
   "outputs": [
    {
     "data": {
      "image/png": "[encoded data removed]",
      "text/plain": [
       "<Figure size 1080x360 with 2 Axes>"
      ]
     },
     "metadata": {},
     "output_type": "display_data"
    }
   ],
   "source": [
    "f, (ax1, ax2) = plt.subplots(nrows=1, ncols=2, sharex=False, sharey=False,\n",
    "                             squeeze=True, subplot_kw=None, gridspec_kw=None)\n",
    "col_order = ['Return_to_owner', 'Euthanasia', 'Adoption', 'Transfer', 'Died']\n",
    "a = sns.countplot('OutcomeType', data = data[(data.HasName == 1)], palette='Set3', ax=ax1, order=col_order)\n",
    "b = sns.countplot('OutcomeType', data = data[(data.HasName == 0)], palette='Set3', ax=ax2, order=col_order)\n",
    "a.set_title('Has name')\n",
    "b.set_title('No name')\n",
    "a.set(ylabel='', xlabel='', ylim=(0,10000))\n",
    "b.set(ylabel='', xlabel='', ylim=(0,10000))\n",
    "for item in b.get_xticklabels():\n",
    "    item.set_rotation(45)\n",
    "for item in a.get_xticklabels():\n",
    "    item.set_rotation(45)\n",
    "ax1.figure.set_size_inches(15,5)\n",
    "n1 = len(data[(data.HasName==1)])\n",
    "for p in ax1.patches:\n",
    "    x=p.get_bbox().get_points()[:,0]\n",
    "    y=p.get_bbox().get_points()[1,1]\n",
    "    ax1.annotate('{:.1f}%'.format(100.*y/n1), (x.mean(), y), \n",
    "                ha='center', va='bottom')\n",
    "n2 = len(data[(data.HasName==0)])\n",
    "for p in ax2.patches:\n",
    "    x=p.get_bbox().get_points()[:,0]\n",
    "    y=p.get_bbox().get_points()[1,1]\n",
    "    ax2.annotate('{:.1f}%'.format(100.*y/n2), (x.mean(), y), \n",
    "                ha='center', va='bottom')"
   ]
  },
  {
   "cell_type": "markdown",
   "metadata": {},
   "source": [
    "Now we can see clearly that if the animal has a name, almost half of these animals are adopted, while if it doesn't, less than a quarter are adopted. Similarly, 24.3% of named animals are returned to owner, compared to just 2% for unnamed animals. This variable is potentially very important in predicting the outcome."
   ]
  },
  {
   "cell_type": "markdown",
   "metadata": {},
   "source": [
    "Now let's look at the variable SexuponOutcome\n"
   ]
  },
  {
   "cell_type": "code",
   "execution_count": 52,
   "metadata": {},
   "outputs": [
    {
     "name": "stdout",
     "output_type": "stream",
     "text": [
      "Neutered Male    9780\n",
      "Spayed Female    8820\n",
      "Intact Male      3525\n",
      "Intact Female    3511\n",
      "Unknown          1093\n",
      "Name: SexuponOutcome, dtype: int64\n"
     ]
    },
    {
     "data": {
      "image/png": "[encoded data removed]",
      "text/plain": [
       "<Figure size 1080x360 with 1 Axes>"
      ]
     },
     "metadata": {},
     "output_type": "display_data"
    }
   ],
   "source": [
    "print(data.SexuponOutcome.value_counts())\n",
    "ax = sns.countplot(data=data, x='OutcomeType',hue='SexuponOutcome', palette=\"Set3\")\n",
    "ax.figure.set_size_inches(15,5)"
   ]
  },
  {
   "cell_type": "markdown",
   "metadata": {},
   "source": [
    "There are 9780 neutered males and 8820 spayed females, and more than 5000 from each category end up being adopted, with the majority of the remainder being either returned to owner, or transferred. \n",
    "\n",
    "On the other hand, there are 3525 intact males and 3511 intact females, and almost all of them are transfered, with the second most common outcome being euthanasia. I think we can safely say that neutered/spayed animals are more likely to get a better outcome. This is useful info the shelter could use. "
   ]
  },
  {
   "cell_type": "code",
   "execution_count": 53,
   "metadata": {},
   "outputs": [
    {
     "data": {
      "text/html": [
       "<div>\n",
       "<style scoped>\n",
       "    .dataframe tbody tr th:only-of-type {\n",
       "        vertical-align: middle;\n",
       "    }\n",
       "\n",
       "    .dataframe tbody tr th {\n",
       "        vertical-align: top;\n",
       "    }\n",
       "\n",
       "    .dataframe thead th {\n",
       "        text-align: right;\n",
       "    }\n",
       "</style>\n",
       "<table border=\"1\" class=\"dataframe\">\n",
       "  <thead>\n",
       "    <tr style=\"text-align: right;\">\n",
       "      <th></th>\n",
       "      <th>HasName</th>\n",
       "      <th>OutcomeType</th>\n",
       "      <th>AnimalType</th>\n",
       "      <th>SexuponOutcome</th>\n",
       "      <th>AgeuponOutcome</th>\n",
       "      <th>Breed</th>\n",
       "      <th>Color</th>\n",
       "    </tr>\n",
       "  </thead>\n",
       "  <tbody>\n",
       "    <tr>\n",
       "      <th>0</th>\n",
       "      <td>1</td>\n",
       "      <td>Return_to_owner</td>\n",
       "      <td>Dog</td>\n",
       "      <td>Neutered Male</td>\n",
       "      <td>1 year</td>\n",
       "      <td>Shetland Sheepdog Mix</td>\n",
       "      <td>Brown/White</td>\n",
       "    </tr>\n",
       "    <tr>\n",
       "      <th>1</th>\n",
       "      <td>1</td>\n",
       "      <td>Euthanasia</td>\n",
       "      <td>Cat</td>\n",
       "      <td>Spayed Female</td>\n",
       "      <td>1 year</td>\n",
       "      <td>Domestic Shorthair Mix</td>\n",
       "      <td>Cream Tabby</td>\n",
       "    </tr>\n",
       "    <tr>\n",
       "      <th>2</th>\n",
       "      <td>1</td>\n",
       "      <td>Adoption</td>\n",
       "      <td>Dog</td>\n",
       "      <td>Neutered Male</td>\n",
       "      <td>2 years</td>\n",
       "      <td>Pit Bull Mix</td>\n",
       "      <td>Blue/White</td>\n",
       "    </tr>\n",
       "    <tr>\n",
       "      <th>3</th>\n",
       "      <td>0</td>\n",
       "      <td>Transfer</td>\n",
       "      <td>Cat</td>\n",
       "      <td>Intact Male</td>\n",
       "      <td>3 weeks</td>\n",
       "      <td>Domestic Shorthair Mix</td>\n",
       "      <td>Blue Cream</td>\n",
       "    </tr>\n",
       "    <tr>\n",
       "      <th>4</th>\n",
       "      <td>0</td>\n",
       "      <td>Transfer</td>\n",
       "      <td>Dog</td>\n",
       "      <td>Neutered Male</td>\n",
       "      <td>2 years</td>\n",
       "      <td>Lhasa Apso/Miniature Poodle</td>\n",
       "      <td>Tan</td>\n",
       "    </tr>\n",
       "  </tbody>\n",
       "</table>\n",
       "</div>"
      ],
      "text/plain": [
       "   HasName      OutcomeType AnimalType SexuponOutcome AgeuponOutcome  \\\n",
       "0        1  Return_to_owner        Dog  Neutered Male         1 year   \n",
       "1        1       Euthanasia        Cat  Spayed Female         1 year   \n",
       "2        1         Adoption        Dog  Neutered Male        2 years   \n",
       "3        0         Transfer        Cat    Intact Male        3 weeks   \n",
       "4        0         Transfer        Dog  Neutered Male        2 years   \n",
       "\n",
       "                         Breed        Color  \n",
       "0        Shetland Sheepdog Mix  Brown/White  \n",
       "1       Domestic Shorthair Mix  Cream Tabby  \n",
       "2                 Pit Bull Mix   Blue/White  \n",
       "3       Domestic Shorthair Mix   Blue Cream  \n",
       "4  Lhasa Apso/Miniature Poodle          Tan  "
      ]
     },
     "execution_count": 53,
     "metadata": {},
     "output_type": "execute_result"
    }
   ],
   "source": [
    "data.head()"
   ]
  },
  {
   "cell_type": "markdown",
   "metadata": {},
   "source": [
    "Now let's take a look at AgeuponOutcome. There are currently numerical values with different units (days, weeks, months, years), so to keep it simple, I'll convert all values to days."
   ]
  },
  {
   "cell_type": "code",
   "execution_count": 54,
   "metadata": {},
   "outputs": [],
   "source": [
    "def AgebyDay(x):\n",
    "    num, unit = x.split(' ')\n",
    "    if 'year' in unit:\n",
    "        return int(num)*365\n",
    "    elif 'month' in unit:\n",
    "        return int(num)*30\n",
    "    elif 'week' in unit:\n",
    "        return int(num)*7\n",
    "    elif 'day' in unit:\n",
    "        return int(num)"
   ]
  },
  {
   "cell_type": "code",
   "execution_count": 55,
   "metadata": {},
   "outputs": [],
   "source": [
    "data['AgeuponOutcome'] = data['AgeuponOutcome'].apply(AgebyDay)"
   ]
  },
  {
   "cell_type": "code",
   "execution_count": 56,
   "metadata": {},
   "outputs": [
    {
     "data": {
      "text/html": [
       "<div>\n",
       "<style scoped>\n",
       "    .dataframe tbody tr th:only-of-type {\n",
       "        vertical-align: middle;\n",
       "    }\n",
       "\n",
       "    .dataframe tbody tr th {\n",
       "        vertical-align: top;\n",
       "    }\n",
       "\n",
       "    .dataframe thead th {\n",
       "        text-align: right;\n",
       "    }\n",
       "</style>\n",
       "<table border=\"1\" class=\"dataframe\">\n",
       "  <thead>\n",
       "    <tr style=\"text-align: right;\">\n",
       "      <th></th>\n",
       "      <th>HasName</th>\n",
       "      <th>OutcomeType</th>\n",
       "      <th>AnimalType</th>\n",
       "      <th>SexuponOutcome</th>\n",
       "      <th>AgeuponOutcome</th>\n",
       "      <th>Breed</th>\n",
       "      <th>Color</th>\n",
       "    </tr>\n",
       "  </thead>\n",
       "  <tbody>\n",
       "    <tr>\n",
       "      <th>0</th>\n",
       "      <td>1</td>\n",
       "      <td>Return_to_owner</td>\n",
       "      <td>Dog</td>\n",
       "      <td>Neutered Male</td>\n",
       "      <td>365</td>\n",
       "      <td>Shetland Sheepdog Mix</td>\n",
       "      <td>Brown/White</td>\n",
       "    </tr>\n",
       "    <tr>\n",
       "      <th>1</th>\n",
       "      <td>1</td>\n",
       "      <td>Euthanasia</td>\n",
       "      <td>Cat</td>\n",
       "      <td>Spayed Female</td>\n",
       "      <td>365</td>\n",
       "      <td>Domestic Shorthair Mix</td>\n",
       "      <td>Cream Tabby</td>\n",
       "    </tr>\n",
       "    <tr>\n",
       "      <th>2</th>\n",
       "      <td>1</td>\n",
       "      <td>Adoption</td>\n",
       "      <td>Dog</td>\n",
       "      <td>Neutered Male</td>\n",
       "      <td>730</td>\n",
       "      <td>Pit Bull Mix</td>\n",
       "      <td>Blue/White</td>\n",
       "    </tr>\n",
       "    <tr>\n",
       "      <th>3</th>\n",
       "      <td>0</td>\n",
       "      <td>Transfer</td>\n",
       "      <td>Cat</td>\n",
       "      <td>Intact Male</td>\n",
       "      <td>21</td>\n",
       "      <td>Domestic Shorthair Mix</td>\n",
       "      <td>Blue Cream</td>\n",
       "    </tr>\n",
       "    <tr>\n",
       "      <th>4</th>\n",
       "      <td>0</td>\n",
       "      <td>Transfer</td>\n",
       "      <td>Dog</td>\n",
       "      <td>Neutered Male</td>\n",
       "      <td>730</td>\n",
       "      <td>Lhasa Apso/Miniature Poodle</td>\n",
       "      <td>Tan</td>\n",
       "    </tr>\n",
       "  </tbody>\n",
       "</table>\n",
       "</div>"
      ],
      "text/plain": [
       "   HasName      OutcomeType AnimalType SexuponOutcome  AgeuponOutcome  \\\n",
       "0        1  Return_to_owner        Dog  Neutered Male             365   \n",
       "1        1       Euthanasia        Cat  Spayed Female             365   \n",
       "2        1         Adoption        Dog  Neutered Male             730   \n",
       "3        0         Transfer        Cat    Intact Male              21   \n",
       "4        0         Transfer        Dog  Neutered Male             730   \n",
       "\n",
       "                         Breed        Color  \n",
       "0        Shetland Sheepdog Mix  Brown/White  \n",
       "1       Domestic Shorthair Mix  Cream Tabby  \n",
       "2                 Pit Bull Mix   Blue/White  \n",
       "3       Domestic Shorthair Mix   Blue Cream  \n",
       "4  Lhasa Apso/Miniature Poodle          Tan  "
      ]
     },
     "execution_count": 56,
     "metadata": {},
     "output_type": "execute_result"
    }
   ],
   "source": [
    "data.head()"
   ]
  },
  {
   "cell_type": "markdown",
   "metadata": {},
   "source": [
    "Now let's look at the breed variable. We see that most of them are mixed breeds. There isn't a simple way to reduce the unique values of these breeds, without relying on outside data sources, so to keep things simple, I'll convert the variable into a binary variable indicating whether the breed is mixed."
   ]
  },
  {
   "cell_type": "code",
   "execution_count": 57,
   "metadata": {},
   "outputs": [],
   "source": [
    "def IsMix(x):\n",
    "    if 'mix' in x or 'Mix' in x or '/' in x:\n",
    "        return 1\n",
    "    else:\n",
    "        return 0"
   ]
  },
  {
   "cell_type": "code",
   "execution_count": 58,
   "metadata": {},
   "outputs": [],
   "source": [
    "data['Breed'] = data['Breed'].apply(IsMix)"
   ]
  },
  {
   "cell_type": "code",
   "execution_count": 59,
   "metadata": {},
   "outputs": [],
   "source": [
    "data.rename(columns={'Breed':'IsMixBreed'}, inplace=True)"
   ]
  },
  {
   "cell_type": "code",
   "execution_count": 60,
   "metadata": {},
   "outputs": [
    {
     "data": {
      "text/html": [
       "<div>\n",
       "<style scoped>\n",
       "    .dataframe tbody tr th:only-of-type {\n",
       "        vertical-align: middle;\n",
       "    }\n",
       "\n",
       "    .dataframe tbody tr th {\n",
       "        vertical-align: top;\n",
       "    }\n",
       "\n",
       "    .dataframe thead th {\n",
       "        text-align: right;\n",
       "    }\n",
       "</style>\n",
       "<table border=\"1\" class=\"dataframe\">\n",
       "  <thead>\n",
       "    <tr style=\"text-align: right;\">\n",
       "      <th></th>\n",
       "      <th>HasName</th>\n",
       "      <th>OutcomeType</th>\n",
       "      <th>AnimalType</th>\n",
       "      <th>SexuponOutcome</th>\n",
       "      <th>AgeuponOutcome</th>\n",
       "      <th>IsMixBreed</th>\n",
       "      <th>Color</th>\n",
       "    </tr>\n",
       "  </thead>\n",
       "  <tbody>\n",
       "    <tr>\n",
       "      <th>0</th>\n",
       "      <td>1</td>\n",
       "      <td>Return_to_owner</td>\n",
       "      <td>Dog</td>\n",
       "      <td>Neutered Male</td>\n",
       "      <td>365</td>\n",
       "      <td>1</td>\n",
       "      <td>Brown/White</td>\n",
       "    </tr>\n",
       "    <tr>\n",
       "      <th>1</th>\n",
       "      <td>1</td>\n",
       "      <td>Euthanasia</td>\n",
       "      <td>Cat</td>\n",
       "      <td>Spayed Female</td>\n",
       "      <td>365</td>\n",
       "      <td>1</td>\n",
       "      <td>Cream Tabby</td>\n",
       "    </tr>\n",
       "    <tr>\n",
       "      <th>2</th>\n",
       "      <td>1</td>\n",
       "      <td>Adoption</td>\n",
       "      <td>Dog</td>\n",
       "      <td>Neutered Male</td>\n",
       "      <td>730</td>\n",
       "      <td>1</td>\n",
       "      <td>Blue/White</td>\n",
       "    </tr>\n",
       "    <tr>\n",
       "      <th>3</th>\n",
       "      <td>0</td>\n",
       "      <td>Transfer</td>\n",
       "      <td>Cat</td>\n",
       "      <td>Intact Male</td>\n",
       "      <td>21</td>\n",
       "      <td>1</td>\n",
       "      <td>Blue Cream</td>\n",
       "    </tr>\n",
       "    <tr>\n",
       "      <th>4</th>\n",
       "      <td>0</td>\n",
       "      <td>Transfer</td>\n",
       "      <td>Dog</td>\n",
       "      <td>Neutered Male</td>\n",
       "      <td>730</td>\n",
       "      <td>1</td>\n",
       "      <td>Tan</td>\n",
       "    </tr>\n",
       "  </tbody>\n",
       "</table>\n",
       "</div>"
      ],
      "text/plain": [
       "   HasName      OutcomeType AnimalType SexuponOutcome  AgeuponOutcome  \\\n",
       "0        1  Return_to_owner        Dog  Neutered Male             365   \n",
       "1        1       Euthanasia        Cat  Spayed Female             365   \n",
       "2        1         Adoption        Dog  Neutered Male             730   \n",
       "3        0         Transfer        Cat    Intact Male              21   \n",
       "4        0         Transfer        Dog  Neutered Male             730   \n",
       "\n",
       "   IsMixBreed        Color  \n",
       "0           1  Brown/White  \n",
       "1           1  Cream Tabby  \n",
       "2           1   Blue/White  \n",
       "3           1   Blue Cream  \n",
       "4           1          Tan  "
      ]
     },
     "execution_count": 60,
     "metadata": {},
     "output_type": "execute_result"
    }
   ],
   "source": [
    "data.head()"
   ]
  },
  {
   "cell_type": "markdown",
   "metadata": {},
   "source": [
    "I will ignore the color variable as I'm unsure of a reasonable way to deal with all the unique values."
   ]
  },
  {
   "cell_type": "code",
   "execution_count": 67,
   "metadata": {},
   "outputs": [],
   "source": [
    "del data['Color']"
   ]
  },
  {
   "cell_type": "markdown",
   "metadata": {},
   "source": [
    "Separate the features(X) from the target(y)"
   ]
  },
  {
   "cell_type": "code",
   "execution_count": 75,
   "metadata": {},
   "outputs": [],
   "source": [
    "y = data['OutcomeType']\n",
    "X = data.drop(['OutcomeType'], axis=1)"
   ]
  },
  {
   "cell_type": "markdown",
   "metadata": {},
   "source": [
    "Perform one-hot encoding to prepare data for use by the model."
   ]
  },
  {
   "cell_type": "code",
   "execution_count": 93,
   "metadata": {},
   "outputs": [],
   "source": [
    "X = pd.get_dummies(X)"
   ]
  },
  {
   "cell_type": "markdown",
   "metadata": {},
   "source": [
    "# Algorithms"
   ]
  },
  {
   "cell_type": "markdown",
   "metadata": {},
   "source": [
    "Since this is a multiclass classification problem, we are using a log loss metric, so it matters not just that we predict the accurate class, but that we do so with high probability, in order to get the best score. Since we have mostly categorical variables, and we don't have too much data (~26k rows, with 6 features), this would be ideal for ensemble tree-based classifiers. I will be running RandomForest and XGBoost classifiers. "
   ]
  },
  {
   "cell_type": "markdown",
   "metadata": {},
   "source": [
    "A random forest is a meta estimator that fits a number of decision tree classifiers on various sub-samples of the dataset and uses averaging to improve the predictive accuracy and control over-fitting.\n",
    "\n",
    "XGBoost is an algorithm that has recently been dominating applied machine learning and Kaggle competitions for structured or tabular data. XGBoost is an implementation of gradient boosted decision trees designed for speed and performance. Gradient boosting is an approach where new models are created that predict the residuals or errors of prior models and then added together to make the final prediction. It is called gradient boosting because it uses a gradient descent algorithm to minimize the loss when adding new models."
   ]
  },
  {
   "cell_type": "markdown",
   "metadata": {},
   "source": [
    "**Benchmark**"
   ]
  },
  {
   "cell_type": "markdown",
   "metadata": {},
   "source": [
    "To set a benchmark, we'll use a dummy classifier from sklearn. This is just a classifier that uses simple rules to make its prediction. Later we'll use real models to see if we can improve on the loss metric."
   ]
  },
  {
   "cell_type": "code",
   "execution_count": 108,
   "metadata": {},
   "outputs": [
    {
     "name": "stdout",
     "output_type": "stream",
     "text": [
      "[1.2439119676165213, 1.243822919629386, 1.2431743174628553, 1.2431743174628553, 1.243236824648198]\n",
      "Mean log loss for dummy model:  1.2434640693639634\n"
     ]
    }
   ],
   "source": [
    "skf = StratifiedKFold(n_splits=5, shuffle=True)\n",
    "dummy = DummyClassifier(strategy='prior')\n",
    "loss=[]\n",
    "for train_index, test_index in skf.split(X,y):\n",
    "    X_train, y_train = X.loc[train_index], y.loc[train_index]\n",
    "    X_test, y_test = X.loc[test_index], y.loc[test_index]\n",
    "    dummy.fit(X_train, y_train)\n",
    "    y_pred = dummy.predict_proba(X_test)\n",
    "    loss.append(log_loss(y_test, y_pred))\n",
    "print(loss)\n",
    "print('Mean log loss for dummy model: ', np.mean(loss))"
   ]
  },
  {
   "cell_type": "markdown",
   "metadata": {},
   "source": [
    "The dummy classifier using the default strategy gets a log loss of ~20. But after switching to use the 'prior' strategy, it obtains its best score of 1.24. The Kaggle leaderboard has its top score at ~0.6 for those without the data exploit mentioned at the beginning (models using the data exploit can obtain a perfect 0 loss, which is unrealistic), so to jump from 20 to 1.24 is good. Let's see if we can improve from here with real models."
   ]
  },
  {
   "cell_type": "markdown",
   "metadata": {},
   "source": [
    "**Data preprocessing**"
   ]
  },
  {
   "cell_type": "markdown",
   "metadata": {},
   "source": [
    "I've already done data preprocessing during the visualization stage. These include:\n",
    "deleting unused columns,\n",
    "filling null columns with the mode of the column,\n",
    "changing Name to binary HasName,\n",
    "changing Age from string to numeric day,\n",
    "changing Breed to binary IsMixBreed,\n",
    "and one hot encoding."
   ]
  },
  {
   "cell_type": "markdown",
   "metadata": {},
   "source": [
    "**Implementation**\n",
    "\n",
    "Start with RandomForest"
   ]
  },
  {
   "cell_type": "code",
   "execution_count": 133,
   "metadata": {},
   "outputs": [
    {
     "name": "stdout",
     "output_type": "stream",
     "text": [
      "[1.2557486519884427, 1.3507544390191284, 1.3667122677731518, 1.3132522918599783, 1.2935886501829272]\n",
      "Mean log loss for model:  1.3160112601647256\n"
     ]
    }
   ],
   "source": [
    "model = RandomForestClassifier()\n",
    "loss=[]\n",
    "for train_index, test_index in skf.split(X,y):\n",
    "    X_train, y_train = X.loc[train_index], y.loc[train_index]\n",
    "    X_test, y_test = X.loc[test_index], y.loc[test_index]\n",
    "    model.fit(X_train, y_train)\n",
    "    y_pred = model.predict_proba(X_test)\n",
    "    loss.append(log_loss(y_test, y_pred))\n",
    "print(loss)\n",
    "print('Mean log loss for model: ', np.mean(loss))"
   ]
  },
  {
   "cell_type": "markdown",
   "metadata": {},
   "source": [
    "yikes, worse than the dummy model at the moment, try to improve by parameter tuning\n",
    "\n",
    "**Refinement**"
   ]
  },
  {
   "cell_type": "code",
   "execution_count": 119,
   "metadata": {},
   "outputs": [
    {
     "name": "stdout",
     "output_type": "stream",
     "text": [
      "Fitting 5 folds for each of 24 candidates, totalling 120 fits\n",
      "[CV] criterion=gini, min_samples_split=1.0, n_estimators=120 .........\n",
      "[CV]  criterion=gini, min_samples_split=1.0, n_estimators=120, total=   1.6s\n",
      "[CV] criterion=gini, min_samples_split=1.0, n_estimators=120 .........\n"
     ]
    },
    {
     "name": "stderr",
     "output_type": "stream",
     "text": [
      "[Parallel(n_jobs=1)]: Done   1 out of   1 | elapsed:    2.0s remaining:    0.0s\n"
     ]
    },
    {
     "name": "stdout",
     "output_type": "stream",
     "text": [
      "[CV]  criterion=gini, min_samples_split=1.0, n_estimators=120, total=   1.2s\n",
      "[CV] criterion=gini, min_samples_split=1.0, n_estimators=120 .........\n",
      "[CV]  criterion=gini, min_samples_split=1.0, n_estimators=120, total=   0.9s\n",
      "[CV] criterion=gini, min_samples_split=1.0, n_estimators=120 .........\n",
      "[CV]  criterion=gini, min_samples_split=1.0, n_estimators=120, total=   0.9s\n",
      "[CV] criterion=gini, min_samples_split=1.0, n_estimators=120 .........\n",
      "[CV]  criterion=gini, min_samples_split=1.0, n_estimators=120, total=   0.9s\n",
      "[CV] criterion=gini, min_samples_split=1.0, n_estimators=500 .........\n",
      "[CV]  criterion=gini, min_samples_split=1.0, n_estimators=500, total=   3.5s\n",
      "[CV] criterion=gini, min_samples_split=1.0, n_estimators=500 .........\n",
      "[CV]  criterion=gini, min_samples_split=1.0, n_estimators=500, total=   5.1s\n",
      "[CV] criterion=gini, min_samples_split=1.0, n_estimators=500 .........\n",
      "[CV]  criterion=gini, min_samples_split=1.0, n_estimators=500, total=   3.8s\n",
      "[CV] criterion=gini, min_samples_split=1.0, n_estimators=500 .........\n",
      "[CV]  criterion=gini, min_samples_split=1.0, n_estimators=500, total=   3.3s\n",
      "[CV] criterion=gini, min_samples_split=1.0, n_estimators=500 .........\n",
      "[CV]  criterion=gini, min_samples_split=1.0, n_estimators=500, total=   5.1s\n",
      "[CV] criterion=gini, min_samples_split=1.0, n_estimators=800 .........\n",
      "[CV]  criterion=gini, min_samples_split=1.0, n_estimators=800, total=   6.9s\n",
      "[CV] criterion=gini, min_samples_split=1.0, n_estimators=800 .........\n",
      "[CV]  criterion=gini, min_samples_split=1.0, n_estimators=800, total=   6.1s\n",
      "[CV] criterion=gini, min_samples_split=1.0, n_estimators=800 .........\n",
      "[CV]  criterion=gini, min_samples_split=1.0, n_estimators=800, total=   6.8s\n",
      "[CV] criterion=gini, min_samples_split=1.0, n_estimators=800 .........\n",
      "[CV]  criterion=gini, min_samples_split=1.0, n_estimators=800, total=   8.1s\n",
      "[CV] criterion=gini, min_samples_split=1.0, n_estimators=800 .........\n",
      "[CV]  criterion=gini, min_samples_split=1.0, n_estimators=800, total=   6.4s\n",
      "[CV] criterion=gini, min_samples_split=5, n_estimators=120 ...........\n",
      "[CV]  criterion=gini, min_samples_split=5, n_estimators=120, total=   1.9s\n",
      "[CV] criterion=gini, min_samples_split=5, n_estimators=120 ...........\n",
      "[CV]  criterion=gini, min_samples_split=5, n_estimators=120, total=   1.9s\n",
      "[CV] criterion=gini, min_samples_split=5, n_estimators=120 ...........\n",
      "[CV]  criterion=gini, min_samples_split=5, n_estimators=120, total=   2.0s\n",
      "[CV] criterion=gini, min_samples_split=5, n_estimators=120 ...........\n",
      "[CV]  criterion=gini, min_samples_split=5, n_estimators=120, total=   1.9s\n",
      "[CV] criterion=gini, min_samples_split=5, n_estimators=120 ...........\n",
      "[CV]  criterion=gini, min_samples_split=5, n_estimators=120, total=   1.9s\n",
      "[CV] criterion=gini, min_samples_split=5, n_estimators=500 ...........\n",
      "[CV]  criterion=gini, min_samples_split=5, n_estimators=500, total=   7.9s\n",
      "[CV] criterion=gini, min_samples_split=5, n_estimators=500 ...........\n",
      "[CV]  criterion=gini, min_samples_split=5, n_estimators=500, total=   7.8s\n",
      "[CV] criterion=gini, min_samples_split=5, n_estimators=500 ...........\n",
      "[CV]  criterion=gini, min_samples_split=5, n_estimators=500, total=   7.4s\n",
      "[CV] criterion=gini, min_samples_split=5, n_estimators=500 ...........\n",
      "[CV]  criterion=gini, min_samples_split=5, n_estimators=500, total=   8.7s\n",
      "[CV] criterion=gini, min_samples_split=5, n_estimators=500 ...........\n",
      "[CV]  criterion=gini, min_samples_split=5, n_estimators=500, total=   7.7s\n",
      "[CV] criterion=gini, min_samples_split=5, n_estimators=800 ...........\n",
      "[CV]  criterion=gini, min_samples_split=5, n_estimators=800, total=  14.4s\n",
      "[CV] criterion=gini, min_samples_split=5, n_estimators=800 ...........\n",
      "[CV]  criterion=gini, min_samples_split=5, n_estimators=800, total=  12.1s\n",
      "[CV] criterion=gini, min_samples_split=5, n_estimators=800 ...........\n",
      "[CV]  criterion=gini, min_samples_split=5, n_estimators=800, total=  12.1s\n",
      "[CV] criterion=gini, min_samples_split=5, n_estimators=800 ...........\n",
      "[CV]  criterion=gini, min_samples_split=5, n_estimators=800, total=  13.9s\n",
      "[CV] criterion=gini, min_samples_split=5, n_estimators=800 ...........\n",
      "[CV]  criterion=gini, min_samples_split=5, n_estimators=800, total=  14.3s\n",
      "[CV] criterion=gini, min_samples_split=15, n_estimators=120 ..........\n",
      "[CV]  criterion=gini, min_samples_split=15, n_estimators=120, total=   2.6s\n",
      "[CV] criterion=gini, min_samples_split=15, n_estimators=120 ..........\n",
      "[CV]  criterion=gini, min_samples_split=15, n_estimators=120, total=   1.9s\n",
      "[CV] criterion=gini, min_samples_split=15, n_estimators=120 ..........\n",
      "[CV]  criterion=gini, min_samples_split=15, n_estimators=120, total=   2.8s\n",
      "[CV] criterion=gini, min_samples_split=15, n_estimators=120 ..........\n",
      "[CV]  criterion=gini, min_samples_split=15, n_estimators=120, total=   2.7s\n",
      "[CV] criterion=gini, min_samples_split=15, n_estimators=120 ..........\n",
      "[CV]  criterion=gini, min_samples_split=15, n_estimators=120, total=   4.2s\n",
      "[CV] criterion=gini, min_samples_split=15, n_estimators=500 ..........\n",
      "[CV]  criterion=gini, min_samples_split=15, n_estimators=500, total=   8.8s\n",
      "[CV] criterion=gini, min_samples_split=15, n_estimators=500 ..........\n",
      "[CV]  criterion=gini, min_samples_split=15, n_estimators=500, total=   8.8s\n",
      "[CV] criterion=gini, min_samples_split=15, n_estimators=500 ..........\n",
      "[CV]  criterion=gini, min_samples_split=15, n_estimators=500, total=  10.3s\n",
      "[CV] criterion=gini, min_samples_split=15, n_estimators=500 ..........\n",
      "[CV]  criterion=gini, min_samples_split=15, n_estimators=500, total=   7.1s\n",
      "[CV] criterion=gini, min_samples_split=15, n_estimators=500 ..........\n",
      "[CV]  criterion=gini, min_samples_split=15, n_estimators=500, total=   8.0s\n",
      "[CV] criterion=gini, min_samples_split=15, n_estimators=800 ..........\n",
      "[CV]  criterion=gini, min_samples_split=15, n_estimators=800, total=  12.2s\n",
      "[CV] criterion=gini, min_samples_split=15, n_estimators=800 ..........\n",
      "[CV]  criterion=gini, min_samples_split=15, n_estimators=800, total=  12.2s\n",
      "[CV] criterion=gini, min_samples_split=15, n_estimators=800 ..........\n",
      "[CV]  criterion=gini, min_samples_split=15, n_estimators=800, total=  11.3s\n",
      "[CV] criterion=gini, min_samples_split=15, n_estimators=800 ..........\n",
      "[CV]  criterion=gini, min_samples_split=15, n_estimators=800, total=  11.4s\n",
      "[CV] criterion=gini, min_samples_split=15, n_estimators=800 ..........\n",
      "[CV]  criterion=gini, min_samples_split=15, n_estimators=800, total=  11.3s\n",
      "[CV] criterion=gini, min_samples_split=100, n_estimators=120 .........\n",
      "[CV]  criterion=gini, min_samples_split=100, n_estimators=120, total=   1.6s\n",
      "[CV] criterion=gini, min_samples_split=100, n_estimators=120 .........\n",
      "[CV]  criterion=gini, min_samples_split=100, n_estimators=120, total=   1.6s\n",
      "[CV] criterion=gini, min_samples_split=100, n_estimators=120 .........\n",
      "[CV]  criterion=gini, min_samples_split=100, n_estimators=120, total=   1.6s\n",
      "[CV] criterion=gini, min_samples_split=100, n_estimators=120 .........\n",
      "[CV]  criterion=gini, min_samples_split=100, n_estimators=120, total=   1.6s\n",
      "[CV] criterion=gini, min_samples_split=100, n_estimators=120 .........\n",
      "[CV]  criterion=gini, min_samples_split=100, n_estimators=120, total=   1.6s\n",
      "[CV] criterion=gini, min_samples_split=100, n_estimators=500 .........\n",
      "[CV]  criterion=gini, min_samples_split=100, n_estimators=500, total=   6.8s\n",
      "[CV] criterion=gini, min_samples_split=100, n_estimators=500 .........\n",
      "[CV]  criterion=gini, min_samples_split=100, n_estimators=500, total=   6.8s\n",
      "[CV] criterion=gini, min_samples_split=100, n_estimators=500 .........\n",
      "[CV]  criterion=gini, min_samples_split=100, n_estimators=500, total=   6.6s\n",
      "[CV] criterion=gini, min_samples_split=100, n_estimators=500 .........\n",
      "[CV]  criterion=gini, min_samples_split=100, n_estimators=500, total=   6.6s\n",
      "[CV] criterion=gini, min_samples_split=100, n_estimators=500 .........\n",
      "[CV]  criterion=gini, min_samples_split=100, n_estimators=500, total=   6.6s\n",
      "[CV] criterion=gini, min_samples_split=100, n_estimators=800 .........\n",
      "[CV]  criterion=gini, min_samples_split=100, n_estimators=800, total=  10.6s\n",
      "[CV] criterion=gini, min_samples_split=100, n_estimators=800 .........\n",
      "[CV]  criterion=gini, min_samples_split=100, n_estimators=800, total=  10.5s\n",
      "[CV] criterion=gini, min_samples_split=100, n_estimators=800 .........\n"
     ]
    },
    {
     "name": "stdout",
     "output_type": "stream",
     "text": [
      "[CV]  criterion=gini, min_samples_split=100, n_estimators=800, total=  13.7s\n",
      "[CV] criterion=gini, min_samples_split=100, n_estimators=800 .........\n",
      "[CV]  criterion=gini, min_samples_split=100, n_estimators=800, total=  12.5s\n",
      "[CV] criterion=gini, min_samples_split=100, n_estimators=800 .........\n",
      "[CV]  criterion=gini, min_samples_split=100, n_estimators=800, total=  12.3s\n",
      "[CV] criterion=entropy, min_samples_split=1.0, n_estimators=120 ......\n",
      "[CV]  criterion=entropy, min_samples_split=1.0, n_estimators=120, total=   0.8s\n",
      "[CV] criterion=entropy, min_samples_split=1.0, n_estimators=120 ......\n",
      "[CV]  criterion=entropy, min_samples_split=1.0, n_estimators=120, total=   0.8s\n",
      "[CV] criterion=entropy, min_samples_split=1.0, n_estimators=120 ......\n",
      "[CV]  criterion=entropy, min_samples_split=1.0, n_estimators=120, total=   0.8s\n",
      "[CV] criterion=entropy, min_samples_split=1.0, n_estimators=120 ......\n",
      "[CV]  criterion=entropy, min_samples_split=1.0, n_estimators=120, total=   1.1s\n",
      "[CV] criterion=entropy, min_samples_split=1.0, n_estimators=120 ......\n",
      "[CV]  criterion=entropy, min_samples_split=1.0, n_estimators=120, total=   1.5s\n",
      "[CV] criterion=entropy, min_samples_split=1.0, n_estimators=500 ......\n",
      "[CV]  criterion=entropy, min_samples_split=1.0, n_estimators=500, total=   5.1s\n",
      "[CV] criterion=entropy, min_samples_split=1.0, n_estimators=500 ......\n",
      "[CV]  criterion=entropy, min_samples_split=1.0, n_estimators=500, total=   3.2s\n",
      "[CV] criterion=entropy, min_samples_split=1.0, n_estimators=500 ......\n",
      "[CV]  criterion=entropy, min_samples_split=1.0, n_estimators=500, total=   3.1s\n",
      "[CV] criterion=entropy, min_samples_split=1.0, n_estimators=500 ......\n",
      "[CV]  criterion=entropy, min_samples_split=1.0, n_estimators=500, total=   3.7s\n",
      "[CV] criterion=entropy, min_samples_split=1.0, n_estimators=500 ......\n",
      "[CV]  criterion=entropy, min_samples_split=1.0, n_estimators=500, total=   4.0s\n",
      "[CV] criterion=entropy, min_samples_split=1.0, n_estimators=800 ......\n",
      "[CV]  criterion=entropy, min_samples_split=1.0, n_estimators=800, total=   6.0s\n",
      "[CV] criterion=entropy, min_samples_split=1.0, n_estimators=800 ......\n",
      "[CV]  criterion=entropy, min_samples_split=1.0, n_estimators=800, total=   7.0s\n",
      "[CV] criterion=entropy, min_samples_split=1.0, n_estimators=800 ......\n",
      "[CV]  criterion=entropy, min_samples_split=1.0, n_estimators=800, total=   6.5s\n",
      "[CV] criterion=entropy, min_samples_split=1.0, n_estimators=800 ......\n",
      "[CV]  criterion=entropy, min_samples_split=1.0, n_estimators=800, total=   5.6s\n",
      "[CV] criterion=entropy, min_samples_split=1.0, n_estimators=800 ......\n",
      "[CV]  criterion=entropy, min_samples_split=1.0, n_estimators=800, total=   5.3s\n",
      "[CV] criterion=entropy, min_samples_split=5, n_estimators=120 ........\n",
      "[CV]  criterion=entropy, min_samples_split=5, n_estimators=120, total=   2.4s\n",
      "[CV] criterion=entropy, min_samples_split=5, n_estimators=120 ........\n",
      "[CV]  criterion=entropy, min_samples_split=5, n_estimators=120, total=   2.0s\n",
      "[CV] criterion=entropy, min_samples_split=5, n_estimators=120 ........\n",
      "[CV]  criterion=entropy, min_samples_split=5, n_estimators=120, total=   2.5s\n",
      "[CV] criterion=entropy, min_samples_split=5, n_estimators=120 ........\n",
      "[CV]  criterion=entropy, min_samples_split=5, n_estimators=120, total=   2.3s\n",
      "[CV] criterion=entropy, min_samples_split=5, n_estimators=120 ........\n",
      "[CV]  criterion=entropy, min_samples_split=5, n_estimators=120, total=   2.5s\n",
      "[CV] criterion=entropy, min_samples_split=5, n_estimators=500 ........\n",
      "[CV]  criterion=entropy, min_samples_split=5, n_estimators=500, total=   9.2s\n",
      "[CV] criterion=entropy, min_samples_split=5, n_estimators=500 ........\n",
      "[CV]  criterion=entropy, min_samples_split=5, n_estimators=500, total=   8.3s\n",
      "[CV] criterion=entropy, min_samples_split=5, n_estimators=500 ........\n",
      "[CV]  criterion=entropy, min_samples_split=5, n_estimators=500, total=   9.0s\n",
      "[CV] criterion=entropy, min_samples_split=5, n_estimators=500 ........\n",
      "[CV]  criterion=entropy, min_samples_split=5, n_estimators=500, total=   8.8s\n",
      "[CV] criterion=entropy, min_samples_split=5, n_estimators=500 ........\n",
      "[CV]  criterion=entropy, min_samples_split=5, n_estimators=500, total=   9.8s\n",
      "[CV] criterion=entropy, min_samples_split=5, n_estimators=800 ........\n",
      "[CV]  criterion=entropy, min_samples_split=5, n_estimators=800, total=  13.2s\n",
      "[CV] criterion=entropy, min_samples_split=5, n_estimators=800 ........\n",
      "[CV]  criterion=entropy, min_samples_split=5, n_estimators=800, total=  15.2s\n",
      "[CV] criterion=entropy, min_samples_split=5, n_estimators=800 ........\n",
      "[CV]  criterion=entropy, min_samples_split=5, n_estimators=800, total=  12.3s\n",
      "[CV] criterion=entropy, min_samples_split=5, n_estimators=800 ........\n",
      "[CV]  criterion=entropy, min_samples_split=5, n_estimators=800, total=  12.2s\n",
      "[CV] criterion=entropy, min_samples_split=5, n_estimators=800 ........\n",
      "[CV]  criterion=entropy, min_samples_split=5, n_estimators=800, total=  13.0s\n",
      "[CV] criterion=entropy, min_samples_split=15, n_estimators=120 .......\n",
      "[CV]  criterion=entropy, min_samples_split=15, n_estimators=120, total=   1.9s\n",
      "[CV] criterion=entropy, min_samples_split=15, n_estimators=120 .......\n",
      "[CV]  criterion=entropy, min_samples_split=15, n_estimators=120, total=   1.8s\n",
      "[CV] criterion=entropy, min_samples_split=15, n_estimators=120 .......\n",
      "[CV]  criterion=entropy, min_samples_split=15, n_estimators=120, total=   1.8s\n",
      "[CV] criterion=entropy, min_samples_split=15, n_estimators=120 .......\n",
      "[CV]  criterion=entropy, min_samples_split=15, n_estimators=120, total=   1.8s\n",
      "[CV] criterion=entropy, min_samples_split=15, n_estimators=120 .......\n",
      "[CV]  criterion=entropy, min_samples_split=15, n_estimators=120, total=   1.8s\n",
      "[CV] criterion=entropy, min_samples_split=15, n_estimators=500 .......\n",
      "[CV]  criterion=entropy, min_samples_split=15, n_estimators=500, total=   7.4s\n",
      "[CV] criterion=entropy, min_samples_split=15, n_estimators=500 .......\n",
      "[CV]  criterion=entropy, min_samples_split=15, n_estimators=500, total=   7.6s\n",
      "[CV] criterion=entropy, min_samples_split=15, n_estimators=500 .......\n",
      "[CV]  criterion=entropy, min_samples_split=15, n_estimators=500, total=   7.7s\n",
      "[CV] criterion=entropy, min_samples_split=15, n_estimators=500 .......\n",
      "[CV]  criterion=entropy, min_samples_split=15, n_estimators=500, total=   9.6s\n",
      "[CV] criterion=entropy, min_samples_split=15, n_estimators=500 .......\n",
      "[CV]  criterion=entropy, min_samples_split=15, n_estimators=500, total=   7.6s\n",
      "[CV] criterion=entropy, min_samples_split=15, n_estimators=800 .......\n",
      "[CV]  criterion=entropy, min_samples_split=15, n_estimators=800, total=  14.1s\n",
      "[CV] criterion=entropy, min_samples_split=15, n_estimators=800 .......\n",
      "[CV]  criterion=entropy, min_samples_split=15, n_estimators=800, total=  12.2s\n",
      "[CV] criterion=entropy, min_samples_split=15, n_estimators=800 .......\n",
      "[CV]  criterion=entropy, min_samples_split=15, n_estimators=800, total=  11.7s\n",
      "[CV] criterion=entropy, min_samples_split=15, n_estimators=800 .......\n",
      "[CV]  criterion=entropy, min_samples_split=15, n_estimators=800, total=  14.5s\n",
      "[CV] criterion=entropy, min_samples_split=15, n_estimators=800 .......\n",
      "[CV]  criterion=entropy, min_samples_split=15, n_estimators=800, total=  14.4s\n",
      "[CV] criterion=entropy, min_samples_split=100, n_estimators=120 ......\n",
      "[CV]  criterion=entropy, min_samples_split=100, n_estimators=120, total=   2.7s\n",
      "[CV] criterion=entropy, min_samples_split=100, n_estimators=120 ......\n",
      "[CV]  criterion=entropy, min_samples_split=100, n_estimators=120, total=   2.0s\n",
      "[CV] criterion=entropy, min_samples_split=100, n_estimators=120 ......\n",
      "[CV]  criterion=entropy, min_samples_split=100, n_estimators=120, total=   2.0s\n",
      "[CV] criterion=entropy, min_samples_split=100, n_estimators=120 ......\n",
      "[CV]  criterion=entropy, min_samples_split=100, n_estimators=120, total=   1.9s\n",
      "[CV] criterion=entropy, min_samples_split=100, n_estimators=120 ......\n",
      "[CV]  criterion=entropy, min_samples_split=100, n_estimators=120, total=   2.0s\n",
      "[CV] criterion=entropy, min_samples_split=100, n_estimators=500 ......\n",
      "[CV]  criterion=entropy, min_samples_split=100, n_estimators=500, total=   8.1s\n",
      "[CV] criterion=entropy, min_samples_split=100, n_estimators=500 ......\n",
      "[CV]  criterion=entropy, min_samples_split=100, n_estimators=500, total=   8.0s\n",
      "[CV] criterion=entropy, min_samples_split=100, n_estimators=500 ......\n"
     ]
    },
    {
     "name": "stdout",
     "output_type": "stream",
     "text": [
      "[CV]  criterion=entropy, min_samples_split=100, n_estimators=500, total=   7.5s\n",
      "[CV] criterion=entropy, min_samples_split=100, n_estimators=500 ......\n",
      "[CV]  criterion=entropy, min_samples_split=100, n_estimators=500, total=   7.6s\n",
      "[CV] criterion=entropy, min_samples_split=100, n_estimators=500 ......\n",
      "[CV]  criterion=entropy, min_samples_split=100, n_estimators=500, total=   9.0s\n",
      "[CV] criterion=entropy, min_samples_split=100, n_estimators=800 ......\n",
      "[CV]  criterion=entropy, min_samples_split=100, n_estimators=800, total=  10.9s\n",
      "[CV] criterion=entropy, min_samples_split=100, n_estimators=800 ......\n",
      "[CV]  criterion=entropy, min_samples_split=100, n_estimators=800, total=  10.8s\n",
      "[CV] criterion=entropy, min_samples_split=100, n_estimators=800 ......\n",
      "[CV]  criterion=entropy, min_samples_split=100, n_estimators=800, total=  10.7s\n",
      "[CV] criterion=entropy, min_samples_split=100, n_estimators=800 ......\n",
      "[CV]  criterion=entropy, min_samples_split=100, n_estimators=800, total=  10.8s\n",
      "[CV] criterion=entropy, min_samples_split=100, n_estimators=800 ......\n",
      "[CV]  criterion=entropy, min_samples_split=100, n_estimators=800, total=  10.8s\n"
     ]
    },
    {
     "name": "stderr",
     "output_type": "stream",
     "text": [
      "[Parallel(n_jobs=1)]: Done 120 out of 120 | elapsed: 18.4min finished\n"
     ]
    },
    {
     "data": {
      "text/plain": [
       "GridSearchCV(cv=5, error_score='raise',\n",
       "       estimator=RandomForestClassifier(bootstrap=True, class_weight=None, criterion='gini',\n",
       "            max_depth=None, max_features='auto', max_leaf_nodes=None,\n",
       "            min_impurity_decrease=0.0, min_impurity_split=None,\n",
       "            min_samples_leaf=1, min_samples_split=2,\n",
       "            min_weight_fraction_leaf=0.0, n_estimators=10, n_jobs=1,\n",
       "            oob_score=False, random_state=None, verbose=0,\n",
       "            warm_start=False),\n",
       "       fit_params=None, iid=True, n_jobs=1,\n",
       "       param_grid={'n_estimators': [120, 500, 800], 'criterion': ['gini', 'entropy'], 'min_samples_split': [1.0, 5, 15, 100]},\n",
       "       pre_dispatch='2*n_jobs', refit=True, return_train_score='warn',\n",
       "       scoring='neg_log_loss', verbose=2)"
      ]
     },
     "execution_count": 119,
     "metadata": {},
     "output_type": "execute_result"
    }
   ],
   "source": [
    "model = RandomForestClassifier()\n",
    "params = {'n_estimators': [120, 500, 800],\n",
    "          'criterion' : ['gini', 'entropy'],\n",
    "          'min_samples_split' : [1.0, 5, 15, 100],\n",
    "         }\n",
    "clf = GridSearchCV(model, params, scoring = 'neg_log_loss', cv=5, verbose=2)\n",
    "clf.fit(X, y)"
   ]
  },
  {
   "cell_type": "code",
   "execution_count": 143,
   "metadata": {},
   "outputs": [
    {
     "name": "stdout",
     "output_type": "stream",
     "text": [
      "train loss:  -0.8186656660401392 test loss:  -0.8330948397224891\n",
      "train loss:  -0.8202595011756352 test loss:  -0.8267239862170669\n",
      "train loss:  -0.8250104667669473 test loss:  -0.8077189872957321\n",
      "train loss:  -0.8208010733978136 test loss:  -0.8245597109263318\n",
      "train loss:  -0.8230261397772018 test loss:  -0.8156564014417345\n",
      "[0.8330948397224891, 0.8267239862170669, 0.8077189872957321, 0.8245597109263318, 0.8156564014417345]\n",
      "Mean log loss for model:  0.8215507851206709\n"
     ]
    }
   ],
   "source": [
    "loss=[]\n",
    "for train_index, test_index in skf.split(X,y):\n",
    "    X_train, y_train = X.loc[train_index], y.loc[train_index]\n",
    "    X_test, y_test = X.loc[test_index], y.loc[test_index]\n",
    "    y_pred = clf.predict_proba(X_test)\n",
    "    loss.append(log_loss(y_test, y_pred))\n",
    "    print('train loss: ', clf.score(X_train, y_train), 'test loss: ', clf.score(X_test, y_test))\n",
    "print(loss)\n",
    "print('Mean log loss for model: ', np.mean(loss))"
   ]
  },
  {
   "cell_type": "markdown",
   "metadata": {},
   "source": [
    "We get a much better score of 0.82 after parameter tuning. This is quite a bit better than the benchmark. Let's save this model, then try an XGBoost classifier."
   ]
  },
  {
   "cell_type": "code",
   "execution_count": 137,
   "metadata": {},
   "outputs": [
    {
     "data": {
      "text/plain": [
       "['clf.joblib']"
      ]
     },
     "execution_count": 137,
     "metadata": {},
     "output_type": "execute_result"
    }
   ],
   "source": [
    "dump(clf, 'clf.joblib')"
   ]
  },
  {
   "cell_type": "code",
   "execution_count": 144,
   "metadata": {},
   "outputs": [
    {
     "name": "stdout",
     "output_type": "stream",
     "text": [
      "[0.8429836325410812, 0.854020893450444, 0.8686741387717237, 0.8616905970849146, 0.8517967569537205]\n",
      "Mean log loss for model:  0.8558332037603769\n"
     ]
    }
   ],
   "source": [
    "model = XGBClassifier(objective='multi:softprob', n_jobs=-1)\n",
    "loss=[]\n",
    "for train_index, test_index in skf.split(X,y):\n",
    "    X_train, y_train = X.loc[train_index], y.loc[train_index]\n",
    "    X_test, y_test = X.loc[test_index], y.loc[test_index]\n",
    "    model.fit(X_train, y_train, eval_metric='mlogloss')\n",
    "    y_pred = model.predict_proba(X_test)\n",
    "    loss.append(log_loss(y_test, y_pred))\n",
    "print(loss)\n",
    "print('Mean log loss for model: ', np.mean(loss))"
   ]
  },
  {
   "cell_type": "markdown",
   "metadata": {},
   "source": [
    "Default XGBoost got a score of 0.85, which is not too bad, but not as good as the tuned RandomForest model. Unfortunately, when I try tuning XGBoost using GridSearchCV, it is very slow and takes too long, and so for time constraint reasons, I will select the tuned RandomForests as the final model. "
   ]
  },
  {
   "cell_type": "markdown",
   "metadata": {},
   "source": [
    "**Model eval and validation**\n",
    "\n",
    "RF model looks good, with a log loss of 0.82, and train and test loss being virtually identical at ~-0.82 (note the negative score is because the gridsearch used negative log loss as the scoring criteria)."
   ]
  },
  {
   "cell_type": "markdown",
   "metadata": {},
   "source": [
    "**Justification**\n",
    "\n",
    "We made significant progress compared to the benchmark, and with parameter tuning was able to get as high as 0.82. The Kaggle leaderboard is ~0.65 for models that don't use the data leak. So we're not far from the best models. I'm quite happy with the improvement in the score. Also with the train and test loss being virtually identical, I think the model is robust as there is no sign of overfitting, i.e. it is generalizing well."
   ]
  },
  {
   "cell_type": "markdown",
   "metadata": {},
   "source": [
    "# Conclusion"
   ]
  },
  {
   "cell_type": "markdown",
   "metadata": {},
   "source": [
    "**Free-form visualization**"
   ]
  },
  {
   "cell_type": "markdown",
   "metadata": {},
   "source": [
    "Let's look at the feature importance to get an idea of which features are the most useful for the model."
   ]
  },
  {
   "cell_type": "code",
   "execution_count": 154,
   "metadata": {},
   "outputs": [],
   "source": [
    "imp = clf.best_estimator_.feature_importances_"
   ]
  },
  {
   "cell_type": "code",
   "execution_count": 155,
   "metadata": {},
   "outputs": [
    {
     "data": {
      "text/plain": [
       "array([0.17453236, 0.36970099, 0.00877312, 0.05221419, 0.05320816,\n",
       "       0.09478246, 0.09280784, 0.07061231, 0.06297567, 0.0203929 ])"
      ]
     },
     "execution_count": 155,
     "metadata": {},
     "output_type": "execute_result"
    }
   ],
   "source": [
    "imp"
   ]
  },
  {
   "cell_type": "code",
   "execution_count": 159,
   "metadata": {},
   "outputs": [
    {
     "data": {
      "text/plain": [
       "Index(['HasName', 'AgeuponOutcome', 'IsMixBreed', 'AnimalType_Cat',\n",
       "       'AnimalType_Dog', 'SexuponOutcome_Intact Female',\n",
       "       'SexuponOutcome_Intact Male', 'SexuponOutcome_Neutered Male',\n",
       "       'SexuponOutcome_Spayed Female', 'SexuponOutcome_Unknown'],\n",
       "      dtype='object')"
      ]
     },
     "execution_count": 159,
     "metadata": {},
     "output_type": "execute_result"
    }
   ],
   "source": [
    "cols = X.columns\n",
    "cols"
   ]
  },
  {
   "cell_type": "code",
   "execution_count": 162,
   "metadata": {},
   "outputs": [
    {
     "data": {
      "text/plain": [
       "array([1, 0, 5, 6, 7, 8, 4, 3, 9, 2])"
      ]
     },
     "execution_count": 162,
     "metadata": {},
     "output_type": "execute_result"
    }
   ],
   "source": [
    "indices = np.argsort(imp)[::-1]\n",
    "length = len(cols)\n",
    "indices"
   ]
  },
  {
   "cell_type": "code",
   "execution_count": 176,
   "metadata": {},
   "outputs": [
    {
     "data": {
      "text/plain": [
       "[Text(0,0.5,'Importance(%)'), Text(0.5,0,'Columns')]"
      ]
     },
     "execution_count": 176,
     "metadata": {},
     "output_type": "execute_result"
    },
    {
     "data": {
      "image/png": "[encoded data removed]",
      "text/plain": [
       "<Figure size 1080x360 with 1 Axes>"
      ]
     },
     "metadata": {},
     "output_type": "display_data"
    }
   ],
   "source": [
    "# plt.title('Feature Importances')\n",
    "# plt.bar(range(length),imp[indices[:length]],color='lightblue',align='center')\n",
    "# plt.xticks(range(length),cols[indices[:length]],rotation=90)\n",
    "# plt.xlim([-1,length])\n",
    "# plt.show()\n",
    "# plt.gcf.size_in_inches(15,5)\n",
    "ax = sns.barplot(x=cols[indices], y=imp[indices])\n",
    "ax.figure.set_size_inches(15,5)\n",
    "for item in ax.get_xticklabels():\n",
    "    item.set_rotation(90)\n",
    "    item.set_fontsize(15)\n",
    "ax.set_title('Feature importance')\n",
    "ax.set(ylabel='Importance(%)', xlabel='Columns')"
   ]
  },
  {
   "cell_type": "markdown",
   "metadata": {},
   "source": [
    "We see the age had the biggest impact(understandable, as puppies are more likely to be adopted than old dogs, for example), followed by whether or not the animal has a name(we saw this in exploratory analysis). However, we one-hot encoded the SexuponOutcome column that got split into 5 different columns, which if we add up their importance, would be roughly similarly important as the AgeuponOutcome. We saw that neutered and spayed animals are more likely to get good outcomes. IsMixBreed isn't very important, we perhaps needed to be cleverer in how we handled this column's data to get more use out of it. "
   ]
  },
  {
   "cell_type": "markdown",
   "metadata": {},
   "source": [
    "**Reflection**\n",
    "\n",
    "Overview of the steps: Find the dataset on Kaggle and download it. Exploratory analysis and visualizations were helpful to understand the data and already give insights into which features are important for predicting outcome. Needed to clean up some data such as age etc (feature engineering), as well as data processing for use by the models. Had difficulty with Breed and Color, ended up not using them in the prediction. Ran a dummy model to get a benchmark, followed by training 2 proper models using grid search for parameter tuning, which beat the benchmark and got pretty good scores. We evaluated the models using the log loss metric and finally displayed the feature importance of the data. \n",
    "\n",
    "Interesting aspects: the exploratory analysis to see what sort of values we have for the different features, including some which had many null values that had to be dealt with (the Name column, which actually let us engineer a new feature of whether or not the animal has a name, as it could potentially affect the outcome), some visualization already gave us clues as to which features are going to be important, e.g. it's important to have a name and be neutered/spayed to have a higher chance of adoption. Difficult aspects are columns Breed and Color. Too many unique values. Tried to simplify breed, but didn't end up being too useful for prediction. Parameter tuning for XGBoost was also very slow, ended up having to abandon that. I think the final model could be used by the shelter to estimate the likelihood of good/bad outcomes and take action accordingly, for example if an animal has a lower chance of being adopted, maybe they could reduce the adoption fee for that animal or offer other incentives. "
   ]
  },
  {
   "cell_type": "markdown",
   "metadata": {},
   "source": [
    "**Improvement**\n",
    "\n",
    "Could make use of more of the features. E.g. Perhaps we could simplify the Breed column by converting it into a DogType column, for example splitting the dog breeds into dog categories, such as 'toy', 'hound' etc., or extracting more information from the breeds, example the dog size and weight, intelligence, aggressiveness. These could all be useful features to help classification. We would need to obtain data separately from other sources regarding the dog breeds to do this analysis. Similarly for the color, we could probably group them into 'light', 'medium', 'dark'. We could try more parameters for tuning, especially on XGBoost, and try more models, perhaps linear models like SVM or logistic regression."
   ]
  },
  {
   "cell_type": "code",
   "execution_count": null,
   "metadata": {},
   "outputs": [],
   "source": []
  }
 ],
 "metadata": {
  "kernelspec": {
   "display_name": "Python 3",
   "language": "python",
   "name": "python3"
  },
  "language_info": {
   "codemirror_mode": {
    "name": "ipython",
    "version": 3
   },
   "file_extension": ".py",
   "mimetype": "text/x-python",
   "name": "python",
   "nbconvert_exporter": "python",
   "pygments_lexer": "ipython3",
   "version": "3.7.4"
  }
 },
 "nbformat": 4,
 "nbformat_minor": 2
}
